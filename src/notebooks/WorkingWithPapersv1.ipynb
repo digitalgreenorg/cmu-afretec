{
 "cells": [
  {
   "cell_type": "markdown",
   "id": "2dd57226-155a-41a6-b5e6-93fef932f8a6",
   "metadata": {},
   "source": [
    "#### Publication Paper Analysis"
   ]
  },
  {
   "cell_type": "markdown",
   "id": "146f804d-d4b9-4e73-b74c-563cabdcea81",
   "metadata": {},
   "source": [
    "From paper extract/generate:\n",
    "1. title\n",
    "2. author\n",
    "3. publication date\n",
    "4. publisher\n",
    "5. summary"
   ]
  },
  {
   "cell_type": "code",
   "execution_count": 4,
   "id": "16538896-74bf-496c-9581-49ec7b2de51c",
   "metadata": {},
   "outputs": [
    {
     "name": "stdout",
     "output_type": "stream",
     "text": [
      "Collecting PyPDF2\n",
      "  Using cached pypdf2-3.0.1-py3-none-any.whl (232 kB)\n",
      "Installing collected packages: PyPDF2\n",
      "Successfully installed PyPDF2-3.0.1\n"
     ]
    }
   ],
   "source": [
    "!pip install PyPDF2"
   ]
  },
  {
   "cell_type": "code",
   "execution_count": 49,
   "id": "8f7dc4b2-68b3-4e8b-890b-c197d4043ca3",
   "metadata": {},
   "outputs": [],
   "source": [
    "# Imports\n",
    "import pandas as pd\n",
    "import numpy as np\n",
    "# PyPDF2 for loading PDF docs\n",
    "import PyPDF2\n",
    "import openai\n",
    "from langchain.llms import OpenAI\n",
    "import os\n",
    "os.environ[\"OPENAI_API_KEY\"] = \"\"\n",
    "api_key = \"\""
   ]
  },
  {
   "cell_type": "code",
   "execution_count": 16,
   "id": "4f95d06a-22ca-41d4-9211-8804bfaacc06",
   "metadata": {
    "tags": []
   },
   "outputs": [
    {
     "name": "stdout",
     "output_type": "stream",
     "text": [
      "<PyPDF2._page._VirtualList object at 0x0000020CB8F11EA0>\n",
      "{'/Author': 'amd', '/CreationDate': 'D:20140528102257Z', '/Creator': 'PageMaker 7.0', '/ModDate': \"D:20140528192024+05'30'\", '/Producer': 'GPL Ghostscript 8.15', '/Title': 'AH1092.pmd', '/rgid': 'PB:262677268_AS:102063434371080@1401345227537'}\n"
     ]
    }
   ],
   "source": [
    "pdfObj = open('../DGPdfs/01.pdf', 'rb')\n",
    "pdfReader = PyPDF2.PdfReader(pdfObj)\n",
    "\n",
    "# get number of pages in pdf file\n",
    "print(pdfReader.pages)\n",
    "data = pdfReader.metadata\n",
    "print(data)\n",
    "\n",
    "# create single page obj\n",
    "singlePageObj = pdfReader.pages[0]\n",
    "# extract content\n",
    "# print(singlePageObj.extract_text())\n",
    "\n",
    "pdfObj.close()"
   ]
  },
  {
   "cell_type": "code",
   "execution_count": 18,
   "id": "425c11a4-d08b-4ac9-9890-fc23ce867ad8",
   "metadata": {},
   "outputs": [],
   "source": [
    "pdf1 = PyPDF2.PdfReader(open('../DGPdfs/01.pdf', 'rb'))"
   ]
  },
  {
   "cell_type": "code",
   "execution_count": 22,
   "id": "9b95d796-f6e5-4660-a007-d185abad4416",
   "metadata": {
    "collapsed": true,
    "jupyter": {
     "outputs_hidden": true
    },
    "tags": []
   },
   "outputs": [
    {
     "data": {
      "text/plain": [
       "{'/Author': 'amd',\n",
       " '/CreationDate': 'D:20140528102257Z',\n",
       " '/Creator': 'PageMaker 7.0',\n",
       " '/ModDate': \"D:20140528192024+05'30'\",\n",
       " '/Producer': 'GPL Ghostscript 8.15',\n",
       " '/Title': 'AH1092.pmd',\n",
       " '/rgid': 'PB:262677268_AS:102063434371080@1401345227537'}"
      ]
     },
     "execution_count": 22,
     "metadata": {},
     "output_type": "execute_result"
    }
   ],
   "source": [
    "pdf1.metadata"
   ]
  },
  {
   "cell_type": "code",
   "execution_count": 28,
   "id": "9dc761b2-586d-47a5-afb6-c0ecee591734",
   "metadata": {},
   "outputs": [],
   "source": [
    "pg1 = pdf1.pages[0].extract_text()"
   ]
  },
  {
   "cell_type": "code",
   "execution_count": 29,
   "id": "f324a051-aadb-4a57-932f-7d99696513cd",
   "metadata": {},
   "outputs": [
    {
     "name": "stdout",
     "output_type": "stream",
     "text": [
      "<class 'str'>\n",
      "See discussions, st ats, and author pr ofiles f or this public ation at : https://www .researchgate.ne t/public ation/262677268\n",
      "Cultivation and Processing of Potato in Bihar : Issues and Strategies\n",
      "Article  · Oct ober 2014\n",
      "CITATIONS\n",
      "6READS\n",
      "2,775\n",
      "4 author s, including:\n",
      "Some o f the author s of this public ation ar e also w orking on these r elat ed pr ojects:\n",
      "Agricult ural R eviews View pr oject\n",
      "Crop Insur ance and its adoption  View pr oject\n",
      "K. M. Singh\n",
      "Dr R ajendr a Pr asad Centr al Agricult ural Univ ersity\n",
      "473 PUBLICA TIONS    1,906  CITATIONS    \n",
      "SEE PROFILE\n",
      "Abhay K umar\n",
      "ICAR R esearch Comple x for East ern R egion\n",
      "151 PUBLICA TIONS    500 CITATIONS    \n",
      "SEE PROFILE\n",
      "All c ontent f ollo wing this p age was uplo aded b y K. M. Singh  on 29 May 2014.\n",
      "The user has r equest ed enhanc ement of the do wnlo aded file.\n"
     ]
    }
   ],
   "source": [
    "print(type(pg1))\n",
    "print(pg1)"
   ]
  },
  {
   "cell_type": "code",
   "execution_count": 13,
   "id": "cac166a7-f348-47f4-8af7-eec5a1d3fabe",
   "metadata": {},
   "outputs": [],
   "source": [
    "# !pip install pdfx"
   ]
  },
  {
   "cell_type": "code",
   "execution_count": 12,
   "id": "54274097-8758-4768-bd19-ae0fb7491b7e",
   "metadata": {
    "collapsed": true,
    "jupyter": {
     "outputs_hidden": true
    },
    "tags": []
   },
   "outputs": [
    {
     "data": {
      "text/plain": [
       "{'Author': 'amd',\n",
       " 'CreationDate': 'D:20140528102257Z',\n",
       " 'Creator': 'PageMaker 7.0',\n",
       " 'ModDate': \"D:20140528192024+05'30'\",\n",
       " 'Producer': 'GPL Ghostscript 8.15',\n",
       " 'Title': 'AH1092.pmd',\n",
       " 'rgid': 'PB:262677268_AS:102063434371080@1401345227537',\n",
       " 'rdf': {'li': 'AH1092.pmd'},\n",
       " 'dc': {'format': 'application/pdf',\n",
       "  'creator': ['amd'],\n",
       "  'title': {'x-default': 'AH1092.pmd'}},\n",
       " 'xap': {'CreateDate': '2014-05-28T10:22:57',\n",
       "  'CreatorTool': 'PageMaker 7.0',\n",
       "  'ModifyDate': '2014-05-28T19:20:24+05:30',\n",
       "  'MetadataDate': '2014-05-28T19:20:24+05:30'},\n",
       " 'pdf': {'Producer': 'GPL Ghostscript 8.15'},\n",
       " 'xapmm': {'DocumentID': 'uuid:27fd8c55-6c12-42b6-b19f-184594a22baa',\n",
       "  'InstanceID': 'uuid:b95723e2-ff04-48a8-b44e-3cf312798f63'},\n",
       " 'Pages': 7}"
      ]
     },
     "execution_count": 12,
     "metadata": {},
     "output_type": "execute_result"
    }
   ],
   "source": [
    "import pdfx\n",
    "\n",
    "# read pdf file\n",
    "pdf_ = pdfx.PDFx(\"../DGPdfs/01.pdf\")\n",
    "\n",
    "# get metadata\n",
    "pdf_.get_metadata()"
   ]
  },
  {
   "cell_type": "code",
   "execution_count": 27,
   "id": "73750069-be91-4e1e-bb65-c14d8893e3b6",
   "metadata": {},
   "outputs": [],
   "source": [
    "llm = OpenAI(openai_api_key=api_key, temperature=0)"
   ]
  },
  {
   "cell_type": "code",
   "execution_count": 30,
   "id": "eb52d778-04a4-40fc-821f-7b13c661ac74",
   "metadata": {},
   "outputs": [],
   "source": [
    "q = \"When was this paper published?\"\n",
    "desc = llm(pg1 + q)"
   ]
  },
  {
   "cell_type": "code",
   "execution_count": 32,
   "id": "3d48872c-2487-4ec6-914f-0ce2fff2123c",
   "metadata": {},
   "outputs": [
    {
     "name": "stdout",
     "output_type": "stream",
     "text": [
      "This paper was published in October 2014.\n"
     ]
    }
   ],
   "source": [
    "print(desc.strip())"
   ]
  },
  {
   "cell_type": "code",
   "execution_count": 33,
   "id": "2f28d72f-0054-45a6-8200-e9f479e4bcc2",
   "metadata": {},
   "outputs": [],
   "source": [
    "q = \"Who's the author of this paper?\"\n",
    "desc = llm(pg1 + q)"
   ]
  },
  {
   "cell_type": "code",
   "execution_count": 35,
   "id": "d647a54c-7b38-4545-a959-589d8f44090e",
   "metadata": {},
   "outputs": [
    {
     "name": "stdout",
     "output_type": "stream",
     "text": [
      "The authors of this paper are K. M. Singh and Abhay Kumar.\n"
     ]
    }
   ],
   "source": [
    "print(desc.strip())"
   ]
  },
  {
   "cell_type": "code",
   "execution_count": 36,
   "id": "b0e513ef-8049-4e69-a7ed-737a29a9954d",
   "metadata": {},
   "outputs": [],
   "source": [
    "q_t = \"What is the title of this paper?\"\n",
    "title = llm(pg1 + q_t)"
   ]
  },
  {
   "cell_type": "code",
   "execution_count": 38,
   "id": "24585581-99df-449a-9d37-6846f3bc6834",
   "metadata": {},
   "outputs": [
    {
     "name": "stdout",
     "output_type": "stream",
     "text": [
      "Cultivation and Processing of Potato in Bihar: Issues and Strategies\n"
     ]
    }
   ],
   "source": [
    "print(title.strip())"
   ]
  },
  {
   "cell_type": "code",
   "execution_count": 39,
   "id": "b735ea2c-0f62-44b7-8221-81d9984a8402",
   "metadata": {},
   "outputs": [],
   "source": [
    "q_p = \"Who is the publisher of this paper?\"\n",
    "publisher = llm(pg1 + q_p)"
   ]
  },
  {
   "cell_type": "code",
   "execution_count": 41,
   "id": "31584478-93e3-4bfd-a655-f2f22211ee48",
   "metadata": {},
   "outputs": [
    {
     "name": "stdout",
     "output_type": "stream",
     "text": [
      "The publisher of this paper is the Indian Council of Agricultural Research (ICAR).\n"
     ]
    }
   ],
   "source": [
    "print(publisher.strip())"
   ]
  },
  {
   "cell_type": "code",
   "execution_count": 54,
   "id": "84a9f5ed-b9d9-4fc7-a5ae-8f057edc3769",
   "metadata": {},
   "outputs": [],
   "source": [
    "query_ = \"Provide the following information from this paper: title, author, publisher, and date of publication\"\n",
    "info = llm(pg1 + query_)"
   ]
  },
  {
   "cell_type": "code",
   "execution_count": 56,
   "id": "bbbfcba7-b09f-43e9-99dd-d7f2048f48ad",
   "metadata": {},
   "outputs": [
    {
     "name": "stdout",
     "output_type": "stream",
     "text": [
      "Title: Cultivation and Processing of Potato in Bihar: Issues and Strategies\n",
      "Author: K. M. Singh, Abhay Kumar\n",
      "Publisher: ICAR Research Complex for Eastern Region\n",
      "Date of Publication: October 2014\n"
     ]
    }
   ],
   "source": [
    "print(info.strip())"
   ]
  },
  {
   "cell_type": "code",
   "execution_count": null,
   "id": "da7cbfdc-a74a-40b2-b0b1-e5ed5dd7b4c1",
   "metadata": {},
   "outputs": [],
   "source": []
  },
  {
   "cell_type": "markdown",
   "id": "c8ed1250-80d7-48b9-a107-7dea5d3da514",
   "metadata": {},
   "source": [
    "##### Summarize document using chatGPT model"
   ]
  },
  {
   "cell_type": "code",
   "execution_count": 50,
   "id": "e139e5ce-3354-4339-be72-b862bda51026",
   "metadata": {},
   "outputs": [],
   "source": [
    "def summarize_pdf(pdf_file_path):\n",
    "    # Declare a string variable to hold the summary  \n",
    "    summary = \"\"\n",
    "\n",
    "    # Open file\n",
    "    pdf_file = open(pdf_file_path, 'rb')\n",
    "    # Read pdf file with PyPDF2\n",
    "    pdf_reader = PyPDF2.PdfReader(pdf_file)\n",
    "\n",
    "    # Iterate over the pages in the PDF file\n",
    "    for page_num in range(len(pdf_reader.pages)):\n",
    "        # Extract the text from the page\n",
    "        page_content = pdf_reader.pages[page_num].extract_text().lower()\n",
    "        messages = [\n",
    "            {\"role\": \"system\", \"content\": \"You are a helpful research associate\"},\n",
    "            {\"role\": \"user\", \"content\": f\"summarize this: {page_content}\"},\n",
    "        ]\n",
    "\n",
    "        response = openai.ChatCompletion.create(\n",
    "                        model = \"gpt-3.5-turbo-0613\",\n",
    "                        messages = messages,\n",
    "        )\n",
    "        page_summary = response[\"choices\"][0][\"message\"][\"content\"]\n",
    "        summary = summary + page_summary + \"\\n\"\n",
    "\n",
    "    pdf_file.close()\n",
    "    return summary"
   ]
  },
  {
   "cell_type": "code",
   "execution_count": 51,
   "id": "760aa8f5-e27c-492c-84ba-37aa1687ceea",
   "metadata": {},
   "outputs": [],
   "source": [
    "pdf_file_path = \"../DGPdfs/01.pdf\""
   ]
  },
  {
   "cell_type": "code",
   "execution_count": 52,
   "id": "45b95e88-25f6-4104-a3cd-c1bafb318470",
   "metadata": {},
   "outputs": [],
   "source": [
    "summary = summarize_pdf(pdf_file_path)"
   ]
  },
  {
   "cell_type": "code",
   "execution_count": 43,
   "id": "e8eb0399-8d3e-4326-8e92-f7451c40b1e0",
   "metadata": {},
   "outputs": [],
   "source": [
    "# Counting number of words in file"
   ]
  },
  {
   "cell_type": "code",
   "execution_count": 70,
   "id": "d70c40d3-07ac-4b33-aeb2-58f3d9d2e85f",
   "metadata": {},
   "outputs": [
    {
     "name": "stdout",
     "output_type": "stream",
     "text": [
      "The publication titled \"Cultivation and Processing of Potato in Bihar: Issues and Strategies\" was published in October 2014 and has received 6 citations and 2,775 reads. It features the work of four authors, including K. M. Singh and Abhay Kumar. K. M. Singh has 473 publications and 1,906 citations, while Abhay Kumar has 151 publications and 500 citations. The content following the page was uploaded by K. M. Singh on May 29, 2014, and the user has requested enhancements to the downloaded file.\n",
      "In this research article, the authors discuss the cultivation and processing of potato in Bihar, India. They highlight the importance of potato as a major food crop in Bihar and its ability to provide high yields and nutritional value. The authors emphasize the need for efficient marketing strategies to successfully diversify and commercialize potato production and increase farmers' income. They also discuss the challenges of enhancing productivity and quality in the face of shrinking arable land, reduced water availability, changing climate conditions, and various stresses. The authors suggest the establishment of new cold stores and processing industries to minimize transport costs and create employment opportunities. They also emphasize the need for increased utilization and export of potatoes to absorb excess production and sustain growth. Key words include potato, potato production, value addition, potato trade, and marketing.\n",
      "The text discusses the problems related to food insecurity and poor health due to malnutrition. It mentions the shrinking of arable land and water resources due to increasing population, urbanization, and the creation of waste lands. The declining input use efficiency, emergence of resistant pests and diseases, and declining output-input ratio make farming less profitable for resource poor farmers. Potato is highlighted as a crop with high yields and nutritional value that can help address hunger and malnutrition. However, potato production in India is lower compared to countries in Europe and America. Bihar, a state in India, aims to increase the quality production of potatoes to meet domestic requirements and improve income. The text also provides details on potato production in Bihar and discusses the opportunities, challenges, and strategies related to potato farming.\n",
      "The provided text includes information from a research study conducted by the Central Potato Research Station in Patna. Table 2 presents the average maximum and minimum temperatures during the crop season at different locations over a 30-year period (1980 to 2010). The table includes data on the average maximum and minimum temperatures in degrees Celsius for various regions, such as Amritsar, Hisar, Kota, and more.\n",
      "\n",
      "Table 3 displays the percentage of tuber dry matter in processing potato varieties at different locations. It provides data on the tuber dry matter percentage for varieties like Kufri Sona-1, Kufri Sona-2, and Kufri Jyoti in places like Badaun, Ram, Patna, and Indore.\n",
      "\n",
      "The text also mentions the cultivation of potatoes in a 1.4 million hectare area, which generates employment opportunities in rural areas. The potato crop is grown in rotation with other vegetables or cereal crops, contributing to improved management of natural resources and fertilizer use.\n",
      "\n",
      "The text highlights the challenges to achieving sustainable agricultural production, such as increasing population, decreasing arable land, reducing water availability, and environmental degradation. It emphasizes the need to produce more food from less land and water.\n",
      "\n",
      "Strategies to increase potato production in an environmentally, economically, and socially sustainable manner are mentioned. These strategies include processing and value addition, as well as the development of processing cultivars. The text highlights the potential for potato processing in Bihar, noting the current lack of processing units and facilities in the region.\n",
      "In Bihar, potato production is primarily marketed fresh with minimal processing. There are no organized processing industries in the state, with less than 1% of potatoes being processed. Some village-level processing of potatoes into chips and papad is practiced in the unorganized sector, but there is a lack of cold chain infrastructure, resulting in quality deterioration. The state is not yet prepared to handle excess potato production, so attention should be given to the development of policies promoting processing and exports. The short duration of cold winter in Bihar means that potatoes are typically planted in mid-November, and harvesting occurs from late February to mid-March. The warmer weather during this time supports better quality potatoes with less reducing sugar and more dry matter. The suitable climate and growing conditions in Bihar make it conducive to potato production for processing. Potato processing companies are engaging in contract farming and transporting potatoes to other places for processing, but there is a need for processing firms to be established within Bihar itself. The marketing of potatoes in Bihar is currently disorganized, with a lack of adequate market infrastructure and support services. This leads to fluctuating prices, with sudden price crashes during the peak harvesting season and surges in prices during lean months when fresh potatoes are not available. Farmers are forced to sell their produce at low prices after harvest, causing monetary losses. Improving the marketing system and developing cold storage facilities can ensure better returns for growers and decrease price fluctuations. Additionally, rural connectivity is important for increasing farmer income and productivity.\n",
      "The passage discusses the need to improve communication and transport in rural areas, particularly in Bihar. It emphasizes the importance of constructing good roads, creating infrastructure such as grading centers and cold storage facilities, and reducing post-harvest losses for increased profitability. The passage also highlights the need for human resource development to meet the demands of the agricultural sector, including training programs and coordination between various institutions and stakeholders. It mentions the socio-economic conditions of farmers in Bihar, with small and fragmented land holdings and challenges in obtaining genuine fertilizers and agrochemicals. The conclusion emphasizes the importance of increasing potato productivity to meet population demands, while also addressing issues such as shrinking arable land and price crashes. Overall, the passage highlights the various challenges and necessary measures to improve the agricultural sector in Bihar.\n",
      "This summary includes references to various publications and studies related to the potato value chain, agriculture, and socio-economic conditions in Bihar. However, without access to the full text of the publications, it is a challenge to provide a comprehensive summary.\n",
      "\n"
     ]
    }
   ],
   "source": [
    "print(summary)"
   ]
  },
  {
   "cell_type": "code",
   "execution_count": 71,
   "id": "a2e8d037-fb69-495c-ab99-be337cb4e31a",
   "metadata": {},
   "outputs": [],
   "source": [
    "q_ = \"summarize this content\"\n",
    "summary_2 = llm(summary + q_)"
   ]
  },
  {
   "cell_type": "code",
   "execution_count": 73,
   "id": "6d3af7ff-6907-4f3f-9aa4-f665794dce3d",
   "metadata": {},
   "outputs": [
    {
     "name": "stdout",
     "output_type": "stream",
     "text": [
      "This research article discusses the cultivation and processing of potato in Bihar, India, highlighting the importance of potato as a major food crop and its ability to provide high yields and nutritional value. The authors emphasize the need for efficient marketing strategies to successfully diversify and commercialize potato production and increase farmers' income. They also discuss the challenges of enhancing productivity and quality in the face of shrinking arable land, reduced water availability, changing climate conditions, and various stresses. The authors suggest the establishment of new cold stores and processing industries to minimize transport costs and create employment opportunities. They also emphasize the need for increased utilization and export of potatoes to absorb excess production and sustain growth. The text also provides details on potato production in Bihar and discusses the opportunities, challenges, and strategies related to potato farming. It mentions the need to improve communication and transport in rural areas, particularly in Bihar, and the importance of constructing good roads, creating infrastructure such as grading centers and cold storage facilities, and reducing post-harvest losses for increased profitability.\n"
     ]
    }
   ],
   "source": [
    "# this is a summary of summary\n",
    "print(summary_2.strip())"
   ]
  },
  {
   "cell_type": "markdown",
   "id": "4c4faa1f-379e-44e6-84f2-86f0e4192a3f",
   "metadata": {},
   "source": [
    "##### Summarize paper using langchain"
   ]
  },
  {
   "cell_type": "code",
   "execution_count": 57,
   "id": "bb25a102-75a1-4530-99f0-2a21cc8994f4",
   "metadata": {},
   "outputs": [],
   "source": [
    "from langchain.llms import OpenAI\n",
    "from langchain.chains.summarize import load_summarize_chain\n",
    "from langchain.text_splitter import RecursiveCharacterTextSplitter"
   ]
  },
  {
   "cell_type": "code",
   "execution_count": 58,
   "id": "e1fc4d14-3e94-490b-9a22-fc2d8ca02812",
   "metadata": {},
   "outputs": [],
   "source": [
    "llm = OpenAI(temperature=0, openai_api_key=api_key)"
   ]
  },
  {
   "cell_type": "code",
   "execution_count": 64,
   "id": "09ce45c5-d035-4f9f-a027-0939d15e5bbd",
   "metadata": {},
   "outputs": [],
   "source": [
    "from langchain.document_loaders import PyPDFLoader\n",
    "import time"
   ]
  },
  {
   "cell_type": "code",
   "execution_count": 65,
   "id": "5dbbe7a7-0ab5-49d8-8f0b-78060301e0df",
   "metadata": {},
   "outputs": [],
   "source": [
    "start_time = time.time()\n",
    "loader = PyPDFLoader(pdf_file_path)\n",
    "docs = loader.load_and_split()\n",
    "chain = load_summarize_chain(llm, chain_type=\"map_reduce\")\n",
    "summary_ = chain.run(docs)\n",
    "end_time = time.time()\n",
    "elapsed_time = end_time - start_time"
   ]
  },
  {
   "cell_type": "code",
   "execution_count": 61,
   "id": "e3f3b256-f501-4d1f-bf03-6b34850d8db0",
   "metadata": {},
   "outputs": [],
   "source": [
    "def summarize_pdf(pdf_file_path):\n",
    "    loader = PyPDFLoader(pdf_file_path)\n",
    "docs = loader.load_and_split()\n",
    "chain = load_summarize_chain(llm, chain_type=\"map_reduce\")\n",
    "summary_ = chain.run(docs)\n",
    "    pass"
   ]
  },
  {
   "cell_type": "code",
   "execution_count": 66,
   "id": "559a0b4a-1ac0-4574-aa2f-4d2741ecf5fd",
   "metadata": {},
   "outputs": [
    {
     "name": "stdout",
     "output_type": "stream",
     "text": [
      "It took 15.003280401229858 seconds to generate the summary\n"
     ]
    }
   ],
   "source": [
    "print(f\"It took {elapsed_time} seconds to generate the summary\")"
   ]
  },
  {
   "cell_type": "code",
   "execution_count": 67,
   "id": "8888d134-a2a4-484c-a7ef-bc926800aa3b",
   "metadata": {},
   "outputs": [
    {
     "name": "stdout",
     "output_type": "stream",
     "text": [
      " This article examines the cultivation and processing of potatoes in Bihar, India, and the strategies for improvement. It discusses the importance of potato as a short-duration crop with high yields and nutritional value, and the need for efficient marketing to ensure successful diversification and commercialization. It also looks at the challenges of shrinking arable land, reduced water availability, changing climatic conditions, and expanding biotic and abiotic stresses. The article concludes with a discussion of the current scenario, constraints, and possible solutions for enhancing potato cultivation in India and Bihar. It is based on research from the Directorate of Horticulture, Government of Bihar, and the book Global Supply Chains, Standards and the Poor by JFM Swnnen.\n"
     ]
    }
   ],
   "source": [
    "print(summary_)"
   ]
  },
  {
   "cell_type": "code",
   "execution_count": null,
   "id": "87a6aa5b-0d0d-4df6-82a0-af62a8864bef",
   "metadata": {},
   "outputs": [],
   "source": []
  }
 ],
 "metadata": {
  "kernelspec": {
   "display_name": "Python 3 (ipykernel)",
   "language": "python",
   "name": "python3"
  },
  "language_info": {
   "codemirror_mode": {
    "name": "ipython",
    "version": 3
   },
   "file_extension": ".py",
   "mimetype": "text/x-python",
   "name": "python",
   "nbconvert_exporter": "python",
   "pygments_lexer": "ipython3",
   "version": "3.10.9"
  }
 },
 "nbformat": 4,
 "nbformat_minor": 5
}
